{
 "cells": [
  {
   "cell_type": "raw",
   "id": "fe84ec9b",
   "metadata": {},
   "source": [
    "1. In the below elements which of them are values or an expression? eg:- values can be integer or string and expressions will be mathematical operators.\n",
    "\n",
    "* = expressions.\n",
    "\n",
    "'hello'= value.\n",
    "\n",
    "-87.8= value.\n",
    "\n",
    "-= epression. \n",
    "\n",
    "/= epression.\n",
    "\n",
    "+= epression.\t\n"
   ]
  },
  {
   "cell_type": "raw",
   "id": "014d49fb",
   "metadata": {},
   "source": [
    "2. What is the difference between string and variable?\n",
    "\n",
    "variable-> store's information or data , it can be integer , float , string.\n",
    "\n",
    "string-> is one of the type of variable , genrally represented in between '' , store's data in the form of indexes."
   ]
  },
  {
   "cell_type": "raw",
   "id": "303ae0ec",
   "metadata": {},
   "source": [
    "3. Describe three different data types.\n",
    "\n",
    "integer-> 1,2,3.\n",
    "\n",
    "float-> 2.365.\n",
    "\n",
    "string->'abcd'."
   ]
  },
  {
   "cell_type": "raw",
   "id": "713996e6",
   "metadata": {},
   "source": [
    "4. What is an expression made up of? What do all expressions do?\n",
    "\n",
    "expression-> combination of variable,s , that is executed.\n",
    "\n",
    "work-> to execute the given problem or statement."
   ]
  },
  {
   "cell_type": "raw",
   "id": "254774fa",
   "metadata": {},
   "source": [
    "5. This assignment statements, like spam = 10. What is the difference between an expression and a statement?\n",
    "\n",
    "expression-> made up from statement .\n",
    "\n",
    "statement-> provide data for the expression that is needed to be executed. "
   ]
  },
  {
   "cell_type": "raw",
   "id": "9dbc93e3",
   "metadata": {},
   "source": [
    "6. After running the following code, what does the variable bacon contain?\n",
    "bacon = 22\n",
    "bacon + 1\n",
    "\n",
    "contain same value '22'."
   ]
  },
  {
   "cell_type": "raw",
   "id": "e3a76cfc",
   "metadata": {},
   "source": [
    "7. What should the values of the following two terms be?\n",
    "'spam' + 'spamspam'\n",
    "'spam' * 3\n",
    "\n",
    "both will gave :- spamspamspam."
   ]
  },
  {
   "cell_type": "raw",
   "id": "ddf49508",
   "metadata": {},
   "source": [
    "8. Why is eggs a valid variable name while 100 is invalid?\n",
    "\n",
    "variable can not begain with number or special character."
   ]
  },
  {
   "cell_type": "raw",
   "id": "2b5d262d",
   "metadata": {},
   "source": [
    "9. What three functions can be used to get the integer, floating-point number, or string version of a value?\n",
    "\n",
    "integer-> int().\n",
    "\n",
    "floating-point number-> float().\n",
    "\n",
    "string-> str()."
   ]
  },
  {
   "cell_type": "raw",
   "id": "17eee421",
   "metadata": {},
   "source": [
    "10. Why does this expression cause an error? How can you fix it?\n",
    "'I have eaten ' + 99 + ' burritos.'\n",
    "\n",
    "concatenate happens between string-string , correct way 'I have eaten ' + '99' + ' burritos.'"
   ]
  },
  {
   "cell_type": "code",
   "execution_count": null,
   "id": "06d6c565",
   "metadata": {},
   "outputs": [],
   "source": []
  },
  {
   "cell_type": "code",
   "execution_count": null,
   "id": "4ed1a71f",
   "metadata": {},
   "outputs": [],
   "source": []
  },
  {
   "cell_type": "code",
   "execution_count": null,
   "id": "c09087d1",
   "metadata": {},
   "outputs": [],
   "source": []
  }
 ],
 "metadata": {
  "kernelspec": {
   "display_name": "Python 3 (ipykernel)",
   "language": "python",
   "name": "python3"
  },
  "language_info": {
   "codemirror_mode": {
    "name": "ipython",
    "version": 3
   },
   "file_extension": ".py",
   "mimetype": "text/x-python",
   "name": "python",
   "nbconvert_exporter": "python",
   "pygments_lexer": "ipython3",
   "version": "3.9.12"
  }
 },
 "nbformat": 4,
 "nbformat_minor": 5
}
